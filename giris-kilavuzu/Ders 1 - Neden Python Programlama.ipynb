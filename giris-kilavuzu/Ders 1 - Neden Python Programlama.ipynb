{
 "cells": [
  {
   "cell_type": "markdown",
   "metadata": {},
   "source": [
    "Bu derste Python Programlama'ya bir göz atıyoruz."
   ]
  },
  {
   "cell_type": "markdown",
   "metadata": {},
   "source": [
    "## Kılavuz Tanıtımı"
   ]
  },
  {
   "cell_type": "markdown",
   "metadata": {},
   "source": [
    "Youtube Video:\n",
    "    https://youtu.be/yyNtiUyI5Tw"
   ]
  },
  {
   "cell_type": "markdown",
   "metadata": {},
   "source": [
    "Bu kursta Python 3 kullanıyoruz.\n",
    "\n",
    "[Python tarihi](https://en.wikipedia.org/wiki/History_of_Python) hakkında bilgi almak için Wikipedia sayfasına göz atabiliriz."
   ]
  },
  {
   "cell_type": "markdown",
   "metadata": {},
   "source": [
    "## Python Programlama"
   ]
  },
  {
   "cell_type": "markdown",
   "metadata": {},
   "source": [
    "Youtube Video:\n",
    "    https://youtu.be/O1cTNYAjeeg"
   ]
  },
  {
   "cell_type": "markdown",
   "metadata": {},
   "source": [
    "Akılda tutmamız gereken üç madde:\n",
    "- Python case sensitive(büyük-küçük harfe duyarlı) bir programlama dilidir.\n",
    "- Boşluk kullanımı önemlidir.\n",
    "- Python'u daha iyi kavrayabilmek için Error(Hata) mesajlarını anlamaya çalışmalıyız."
   ]
  },
  {
   "cell_type": "markdown",
   "metadata": {},
   "source": [
    "## Python Programlama Nanodegree Programı Hakkında"
   ]
  },
  {
   "cell_type": "markdown",
   "metadata": {},
   "source": [
    "Youtube Video: \n",
    "    https://youtu.be/_qi1xoI3n24"
   ]
  },
  {
   "cell_type": "markdown",
   "metadata": {},
   "source": [
    "Video Udacity'nin Nanodegree programını tanıtıyor."
   ]
  }
 ],
 "metadata": {
  "kernelspec": {
   "display_name": "Python 3",
   "language": "python",
   "name": "python3"
  },
  "language_info": {
   "codemirror_mode": {
    "name": "ipython",
    "version": 3
   },
   "file_extension": ".py",
   "mimetype": "text/x-python",
   "name": "python",
   "nbconvert_exporter": "python",
   "pygments_lexer": "ipython3",
   "version": "3.7.6"
  }
 },
 "nbformat": 4,
 "nbformat_minor": 2
}
